{
 "cells": [
  {
   "cell_type": "code",
   "execution_count": 131,
   "id": "3bfc5ef6-516f-4e7c-8d8d-75a18b108767",
   "metadata": {},
   "outputs": [],
   "source": [
    "import matplotlib.pyplot as plt\n",
    "import numpy as np\n",
    "import sympy as sp\n",
    "from sympy import *\n",
    "from sympy import symbols, Eq, solve, sqrt, ln, exp\n",
    "from sympy import factor"
   ]
  },
  {
   "cell_type": "markdown",
   "id": "45ccf166-099e-4f50-8dba-bad0e4563707",
   "metadata": {},
   "source": [
    "# Oppgavesett 15"
   ]
  },
  {
   "cell_type": "markdown",
   "id": "8696788f-ea77-43f4-b418-b0f281dcbd0e",
   "metadata": {},
   "source": [
    "## Oppgave 1A"
   ]
  },
  {
   "cell_type": "code",
   "execution_count": 132,
   "id": "f32fc2b8-8c7b-436a-b1c8-8f6dd35d3670",
   "metadata": {},
   "outputs": [],
   "source": [
    "x,y=sp.symbols(\"x y\")"
   ]
  },
  {
   "cell_type": "code",
   "execution_count": 133,
   "id": "17c1d5be-61ce-4550-b9e3-98e05759097f",
   "metadata": {},
   "outputs": [
    {
     "data": {
      "text/plain": [
       "{x: -1, y: 2}"
      ]
     },
     "execution_count": 133,
     "metadata": {},
     "output_type": "execute_result"
    }
   ],
   "source": [
    "eq1=sp.Eq(2*x+4+4,6)\n",
    "eq2=sp.Eq(-2*x+y,4)\n",
    "solve([eq1,eq2],[x,y])"
   ]
  },
  {
   "cell_type": "markdown",
   "id": "200c63ed-1ff6-467f-b530-d98c828ba81c",
   "metadata": {},
   "source": [
    "## Oppgave 1 B"
   ]
  },
  {
   "cell_type": "code",
   "execution_count": 134,
   "id": "854f95e5-9ee7-44ed-a5f2-695737e9b767",
   "metadata": {},
   "outputs": [
    {
     "data": {
      "text/plain": [
       "[(-1, -1), (2, 5)]"
      ]
     },
     "execution_count": 134,
     "metadata": {},
     "output_type": "execute_result"
    }
   ],
   "source": [
    "eq3=sp.Eq(2*x-y,-1)\n",
    "eq4=sp.Eq(x**2+x-y,1)\n",
    "solve([eq3,eq4],[x,y])"
   ]
  },
  {
   "cell_type": "markdown",
   "id": "7fb2231e-e331-43fc-b22a-2f2deb60589f",
   "metadata": {},
   "source": [
    "## Oppgave 2 A"
   ]
  },
  {
   "cell_type": "code",
   "execution_count": 135,
   "id": "87a668db-2ca9-4c81-9a6a-049507653885",
   "metadata": {},
   "outputs": [
    {
     "data": {
      "text/plain": [
       "{x: 4, y: 0}"
      ]
     },
     "execution_count": 135,
     "metadata": {},
     "output_type": "execute_result"
    }
   ],
   "source": [
    "eq5=sp.Eq(3*x-12,-6*y)\n",
    "eq6=sp.Eq(4*x-8*y,16)\n",
    "solve([eq5,eq6],[x,y])"
   ]
  },
  {
   "cell_type": "markdown",
   "id": "97d97197-3e30-430f-b5dc-f3af0308b951",
   "metadata": {},
   "source": [
    "## Oppgave 2 B"
   ]
  },
  {
   "cell_type": "code",
   "execution_count": 136,
   "id": "6e23b734-ac41-4c29-a37a-ad04e00893d1",
   "metadata": {},
   "outputs": [
    {
     "data": {
      "text/plain": [
       "[(-15/2, 31/4), (2, 3)]"
      ]
     },
     "execution_count": 136,
     "metadata": {},
     "output_type": "execute_result"
    }
   ],
   "source": [
    "eq7=sp.Eq(x**2+4*x-3,3*y)\n",
    "eq8=sp.Eq(2*y,8-x)\n",
    "solve([eq7,eq8],[x,y])"
   ]
  },
  {
   "cell_type": "markdown",
   "id": "bab5d821-02d7-477f-90cd-d7258729f3c1",
   "metadata": {},
   "source": [
    "# Oppgavesett 16"
   ]
  },
  {
   "cell_type": "markdown",
   "id": "a72e53b5-e43b-454f-814f-127fcb4c7517",
   "metadata": {},
   "source": [
    "## Oppgave 1 A"
   ]
  },
  {
   "cell_type": "code",
   "execution_count": 137,
   "id": "8f6aaccf-d4fb-46fb-b763-3a324d8ef0e7",
   "metadata": {},
   "outputs": [
    {
     "data": {
      "text/plain": [
       "{x: 5/2, y: 7/2}"
      ]
     },
     "execution_count": 137,
     "metadata": {},
     "output_type": "execute_result"
    }
   ],
   "source": [
    "eq1=sp.Eq(2*x+2*y,12)\n",
    "eq2=sp.Eq(6*x-2*y,8)\n",
    "solve([eq1,eq2],[x,y])"
   ]
  },
  {
   "cell_type": "markdown",
   "id": "def4cd15-74cb-4be6-87aa-55eecd56234b",
   "metadata": {},
   "source": [
    "## Oppgave 1 B"
   ]
  },
  {
   "cell_type": "code",
   "execution_count": 138,
   "id": "19446e18-710a-45b1-8c3b-8dadefdb7b5a",
   "metadata": {},
   "outputs": [
    {
     "data": {
      "text/plain": [
       "[(0, -5), (12, 1)]"
      ]
     },
     "execution_count": 138,
     "metadata": {},
     "output_type": "execute_result"
    }
   ],
   "source": [
    "eq3=sp.Eq(2*x+y**2,25)\n",
    "eq4=sp.Eq(x-2*y,10)\n",
    "solve([eq3,eq4],[x,y])"
   ]
  },
  {
   "cell_type": "markdown",
   "id": "da9f0c8c-410f-46d4-a6da-6ef9781ac99e",
   "metadata": {},
   "source": [
    "## Oppgave 2 A"
   ]
  },
  {
   "cell_type": "code",
   "execution_count": 139,
   "id": "894f4646-12a2-404f-a4ca-2c2898822291",
   "metadata": {},
   "outputs": [
    {
     "data": {
      "text/plain": [
       "{x: 4, y: 2}"
      ]
     },
     "execution_count": 139,
     "metadata": {},
     "output_type": "execute_result"
    }
   ],
   "source": [
    "eq5=sp.Eq(4*x-4*y,8)\n",
    "eq6=sp.Eq(9*x-5*y,26)\n",
    "solve([eq5,eq6],[x,y])"
   ]
  },
  {
   "cell_type": "markdown",
   "id": "db647395-c97e-4c9a-b415-c97b4965fcae",
   "metadata": {},
   "source": [
    "## Oppgave 2 B"
   ]
  },
  {
   "cell_type": "code",
   "execution_count": 140,
   "id": "74486ec0-c456-453d-9eb2-1cc7f9704450",
   "metadata": {},
   "outputs": [
    {
     "data": {
      "text/plain": [
       "[(-9, -2*sqrt(3)), (-9, 2*sqrt(3)), (7, -2), (7, 2)]"
      ]
     },
     "execution_count": 140,
     "metadata": {},
     "output_type": "execute_result"
    }
   ],
   "source": [
    "eq7=sp.Eq(x+2*y**2,15)\n",
    "eq8=sp.Eq(x**2-4*y**2,33)\n",
    "solve([eq7,eq8],[x,y])"
   ]
  },
  {
   "cell_type": "markdown",
   "id": "1db27cfe-7ec3-4555-be72-940c13fc3ca7",
   "metadata": {},
   "source": [
    "# Oppgavesett 17"
   ]
  },
  {
   "cell_type": "markdown",
   "id": "37b6e3de-d5b0-4310-a400-92f22e2df2d3",
   "metadata": {},
   "source": [
    "## Oppgave 1 A"
   ]
  },
  {
   "cell_type": "code",
   "execution_count": 141,
   "id": "06d66652-fe1f-459b-9ac1-dc1656f7250d",
   "metadata": {},
   "outputs": [
    {
     "data": {
      "text/plain": [
       "[(0, -4), (0, 4), (15, -1), (15, 1)]"
      ]
     },
     "execution_count": 141,
     "metadata": {},
     "output_type": "execute_result"
    }
   ],
   "source": [
    "eq1=sp.Eq(x*y**2-x,0)\n",
    "eq2=sp.Eq(x+y**2,16)\n",
    "solve([eq1,eq2],[x,y])"
   ]
  },
  {
   "cell_type": "markdown",
   "id": "998851e6-201a-4119-8af6-56dcde2c4223",
   "metadata": {},
   "source": [
    "## Oppgave 1 B"
   ]
  },
  {
   "cell_type": "code",
   "execution_count": 142,
   "id": "3814ea35-378f-453d-ace8-2077149e6403",
   "metadata": {},
   "outputs": [
    {
     "data": {
      "text/plain": [
       "[(-10, 0), (-6, -8), (-6, 8), (6, -8), (6, 8), (10, 0)]"
      ]
     },
     "execution_count": 142,
     "metadata": {},
     "output_type": "execute_result"
    }
   ],
   "source": [
    "eq3=sp.Eq(x**2+y**2,100)\n",
    "eq4=sp.Eq(x**2*y-36*y,0)\n",
    "solve([eq3,eq4],[x,y])"
   ]
  },
  {
   "cell_type": "markdown",
   "id": "20e2489b-d951-42d1-9dde-29faaf027da2",
   "metadata": {},
   "source": [
    "## Oppgave 2 A"
   ]
  },
  {
   "cell_type": "code",
   "execution_count": 143,
   "id": "3df57707-87cb-46f1-a850-fee9fc8b0fc6",
   "metadata": {},
   "outputs": [
    {
     "data": {
      "text/plain": [
       "[(-3, -7), (-3, 7), (0, -sqrt(58)), (0, sqrt(58)), (3, -7), (3, 7)]"
      ]
     },
     "execution_count": 143,
     "metadata": {},
     "output_type": "execute_result"
    }
   ],
   "source": [
    "eq5=sp.Eq(x*y**2-49*x,0)\n",
    "eq6=sp.Eq(x**2+y**2,58)\n",
    "solve([eq5,eq6],[x,y])"
   ]
  },
  {
   "cell_type": "code",
   "execution_count": 144,
   "id": "3ebad95c-0cbe-468f-b5bf-8fc955d94ca8",
   "metadata": {},
   "outputs": [
    {
     "data": {
      "text/plain": [
       "[(-1.11803398874989, 0.0),\n",
       " (-0.500000000000000, -1.00000000000000),\n",
       " (-0.500000000000000, 1.00000000000000),\n",
       " (1.11803398874989, 0.0)]"
      ]
     },
     "execution_count": 144,
     "metadata": {},
     "output_type": "execute_result"
    }
   ],
   "source": [
    "eq7=sp.Eq(x**2+y**2,5/4)\n",
    "eq8=sp.Eq(2*x*y+y,0)\n",
    "solve([eq7,eq8],[x,y])"
   ]
  },
  {
   "cell_type": "markdown",
   "id": "19a38898-b685-457b-9687-a7647762bca4",
   "metadata": {},
   "source": [
    "# Oppgavesett 19"
   ]
  },
  {
   "cell_type": "markdown",
   "id": "03dfe5b5-2a4a-41cb-ad6e-81c5c274893e",
   "metadata": {},
   "source": [
    "## Oppgave 1 A"
   ]
  },
  {
   "cell_type": "code",
   "execution_count": 145,
   "id": "b09da19b-417c-44d9-8b55-a5d271b21020",
   "metadata": {},
   "outputs": [],
   "source": [
    "x=sp.Symbol('x')"
   ]
  },
  {
   "cell_type": "code",
   "execution_count": 146,
   "id": "f82993e8-e81d-48de-8a90-d97b14514214",
   "metadata": {},
   "outputs": [
    {
     "data": {
      "text/latex": [
       "$\\displaystyle 5 x^{4}$"
      ],
      "text/plain": [
       "5*x**4"
      ]
     },
     "execution_count": 146,
     "metadata": {},
     "output_type": "execute_result"
    }
   ],
   "source": [
    "sp.diff(x**5)"
   ]
  },
  {
   "cell_type": "markdown",
   "id": "911fa0fe-e841-48ff-96d2-7de3ff9b7062",
   "metadata": {},
   "source": [
    "## Oppgave 1 B"
   ]
  },
  {
   "cell_type": "code",
   "execution_count": 147,
   "id": "77216e5e-0cec-4d22-9e11-07b5d08a5856",
   "metadata": {},
   "outputs": [
    {
     "data": {
      "text/latex": [
       "$\\displaystyle 1$"
      ],
      "text/plain": [
       "1"
      ]
     },
     "execution_count": 147,
     "metadata": {},
     "output_type": "execute_result"
    }
   ],
   "source": [
    "sp.diff(x+12)"
   ]
  },
  {
   "cell_type": "markdown",
   "id": "14c02688-cb9a-4517-a04b-919ad4ef8a5f",
   "metadata": {},
   "source": [
    "## Oppgave 1 C"
   ]
  },
  {
   "cell_type": "code",
   "execution_count": 148,
   "id": "54ec8a76-1944-4d5e-bade-4808699e204c",
   "metadata": {},
   "outputs": [
    {
     "data": {
      "text/latex": [
       "$\\displaystyle 3 x^{2} + 8 x$"
      ],
      "text/plain": [
       "3*x**2 + 8*x"
      ]
     },
     "execution_count": 148,
     "metadata": {},
     "output_type": "execute_result"
    }
   ],
   "source": [
    "sp.diff(x**3+4*x**2)"
   ]
  },
  {
   "cell_type": "markdown",
   "id": "3c0ce2a4-866f-4daa-95a5-3ebc37e4905e",
   "metadata": {},
   "source": [
    "## Oppgave 1 D"
   ]
  },
  {
   "cell_type": "code",
   "execution_count": 149,
   "id": "b2cb0205-3209-40c0-a8fc-f6d9ea1fe027",
   "metadata": {},
   "outputs": [
    {
     "data": {
      "text/latex": [
       "$\\displaystyle 6 x^{2}$"
      ],
      "text/plain": [
       "6*x**2"
      ]
     },
     "execution_count": 149,
     "metadata": {},
     "output_type": "execute_result"
    }
   ],
   "source": [
    "sp.diff(2*x**3+sqrt(36))"
   ]
  },
  {
   "cell_type": "markdown",
   "id": "cb790ffb-d64f-484a-8abe-0f694b14eea4",
   "metadata": {},
   "source": [
    "## Oppgave 1 E"
   ]
  },
  {
   "cell_type": "code",
   "execution_count": 150,
   "id": "28d550bd-b652-4612-bf5f-f8184974817c",
   "metadata": {},
   "outputs": [
    {
     "data": {
      "text/latex": [
       "$\\displaystyle \\frac{1}{2 \\sqrt{x}}$"
      ],
      "text/plain": [
       "1/(2*sqrt(x))"
      ]
     },
     "execution_count": 150,
     "metadata": {},
     "output_type": "execute_result"
    }
   ],
   "source": [
    "sp.diff(sqrt(x)+5**2)"
   ]
  },
  {
   "cell_type": "markdown",
   "id": "e6c5848b-49c0-428d-bf7b-c7086785eab3",
   "metadata": {},
   "source": [
    "## Oppgave 1 F"
   ]
  },
  {
   "cell_type": "code",
   "execution_count": 151,
   "id": "e0ff1cc8-de2b-46e5-ad09-5fe0951744c4",
   "metadata": {},
   "outputs": [
    {
     "data": {
      "text/latex": [
       "$\\displaystyle 3 x^{2} - \\frac{1}{x^{2}}$"
      ],
      "text/plain": [
       "3*x**2 - 1/x**2"
      ]
     },
     "execution_count": 151,
     "metadata": {},
     "output_type": "execute_result"
    }
   ],
   "source": [
    "sp.diff(x**3+1/x)"
   ]
  },
  {
   "cell_type": "markdown",
   "id": "15cdb982-4d30-4a28-b3a9-e7481a6c3ef4",
   "metadata": {},
   "source": [
    "## Oppgave 1 G"
   ]
  },
  {
   "cell_type": "code",
   "execution_count": 152,
   "id": "620e5935-3146-47a2-8404-b7f335acbeaf",
   "metadata": {},
   "outputs": [
    {
     "data": {
      "text/latex": [
       "$\\displaystyle 3 x^{2} - 2 x + 0.25$"
      ],
      "text/plain": [
       "3*x**2 - 2*x + 0.25"
      ]
     },
     "execution_count": 152,
     "metadata": {},
     "output_type": "execute_result"
    }
   ],
   "source": [
    "sp.diff(x**3-x**2+1/4*x)"
   ]
  },
  {
   "cell_type": "markdown",
   "id": "71d2b5c2-1d8a-4ac0-8c0c-40aed62b9501",
   "metadata": {},
   "source": [
    "## Oppgave 2 A"
   ]
  },
  {
   "cell_type": "code",
   "execution_count": 153,
   "id": "306db97a-c527-4209-9f4f-1d4b8a3ee428",
   "metadata": {},
   "outputs": [
    {
     "data": {
      "text/latex": [
       "$\\displaystyle 36 x^{5} - \\frac{1}{x^{2}}$"
      ],
      "text/plain": [
       "36*x**5 - 1/x**2"
      ]
     },
     "execution_count": 153,
     "metadata": {},
     "output_type": "execute_result"
    }
   ],
   "source": [
    "sp.diff(1/x+6*x**6)"
   ]
  },
  {
   "cell_type": "markdown",
   "id": "0a8f0662-b970-421f-834f-a5f26d97148d",
   "metadata": {},
   "source": [
    "## Oppgave 2 B"
   ]
  },
  {
   "cell_type": "code",
   "execution_count": 154,
   "id": "09969db4-5760-4f87-9f64-0a5cb8f29454",
   "metadata": {},
   "outputs": [
    {
     "data": {
      "text/latex": [
       "$\\displaystyle 1.5 x^{2} - 1$"
      ],
      "text/plain": [
       "1.5*x**2 - 1"
      ]
     },
     "execution_count": 154,
     "metadata": {},
     "output_type": "execute_result"
    }
   ],
   "source": [
    "sp.diff(-x+(1/2)*x**3)"
   ]
  },
  {
   "cell_type": "markdown",
   "id": "8984b946-fbd9-43db-b8de-42a88d9bf874",
   "metadata": {},
   "source": [
    "## Oppgave 2 C"
   ]
  },
  {
   "cell_type": "code",
   "execution_count": 155,
   "id": "2dc6a45d-f88e-474f-beed-f4096a09be9b",
   "metadata": {},
   "outputs": [],
   "source": [
    "f=sp.diff(x*(x**2+2*x-3))"
   ]
  },
  {
   "cell_type": "code",
   "execution_count": 156,
   "id": "396852e8-8e44-4b98-a580-82f0de328ba5",
   "metadata": {},
   "outputs": [
    {
     "data": {
      "text/latex": [
       "$\\displaystyle 3 x^{2} + 4 x - 3$"
      ],
      "text/plain": [
       "3*x**2 + 4*x - 3"
      ]
     },
     "execution_count": 156,
     "metadata": {},
     "output_type": "execute_result"
    }
   ],
   "source": [
    "factor(f)"
   ]
  },
  {
   "cell_type": "markdown",
   "id": "32a314df-d22b-43c7-81c8-056a0a69dcf5",
   "metadata": {},
   "source": [
    "# Oppgavesett 20"
   ]
  },
  {
   "cell_type": "markdown",
   "id": "5d005b99-ed5d-4335-911d-c2f547dc30f9",
   "metadata": {},
   "source": [
    " ## Oppgave 1 E"
   ]
  },
  {
   "cell_type": "code",
   "execution_count": 157,
   "id": "ac57f49d-3f61-4202-bc08-72b130f9cd5c",
   "metadata": {},
   "outputs": [
    {
     "data": {
      "text/latex": [
       "$\\displaystyle 9 x^{8}$"
      ],
      "text/plain": [
       "9*x**8"
      ]
     },
     "execution_count": 157,
     "metadata": {},
     "output_type": "execute_result"
    }
   ],
   "source": [
    "sp.diff(x**4*x**5)"
   ]
  },
  {
   "cell_type": "markdown",
   "id": "0f0d51c1-3959-4456-a623-391ebeda6cf6",
   "metadata": {},
   "source": [
    "## Oppgave 1 F"
   ]
  },
  {
   "cell_type": "code",
   "execution_count": 158,
   "id": "6d23f58d-6661-49a9-8d7e-7fc919e6ed2f",
   "metadata": {},
   "outputs": [
    {
     "data": {
      "text/latex": [
       "$\\displaystyle \\frac{3 \\sqrt{x}}{2}$"
      ],
      "text/plain": [
       "3*sqrt(x)/2"
      ]
     },
     "execution_count": 158,
     "metadata": {},
     "output_type": "execute_result"
    }
   ],
   "source": [
    "sp.diff(x*sqrt(x))"
   ]
  },
  {
   "cell_type": "markdown",
   "id": "4aa9853f-1ebc-4305-8a26-f3a08abcbdce",
   "metadata": {},
   "source": [
    "## Oppgave 1 G"
   ]
  },
  {
   "cell_type": "code",
   "execution_count": 159,
   "id": "6d40c77d-06e1-451f-a9fe-86d2059d06cf",
   "metadata": {},
   "outputs": [
    {
     "data": {
      "text/latex": [
       "$\\displaystyle - \\frac{6}{x^{4}}$"
      ],
      "text/plain": [
       "-6/x**4"
      ]
     },
     "execution_count": 159,
     "metadata": {},
     "output_type": "execute_result"
    }
   ],
   "source": [
    "sp.diff(2/x**3)"
   ]
  },
  {
   "cell_type": "markdown",
   "id": "c265c904-398f-4e57-a648-85e881435764",
   "metadata": {},
   "source": [
    "## Oppgave 1 H"
   ]
  },
  {
   "cell_type": "code",
   "execution_count": 160,
   "id": "2f40f9f6-7f4d-44dd-a125-07d6418ee099",
   "metadata": {},
   "outputs": [
    {
     "data": {
      "text/latex": [
       "$\\displaystyle - \\frac{x^{2} - 6}{x^{4}}$"
      ],
      "text/plain": [
       "-(x**2 - 6)/x**4"
      ]
     },
     "execution_count": 160,
     "metadata": {},
     "output_type": "execute_result"
    }
   ],
   "source": [
    "f=sp.diff((x**2-2)/(x**3))\n",
    "factor(f)"
   ]
  },
  {
   "cell_type": "code",
   "execution_count": 161,
   "id": "5ec5d91d-c0a9-4978-8e5a-c4d493eb5acf",
   "metadata": {},
   "outputs": [
    {
     "data": {
      "text/latex": [
       "$\\displaystyle \\frac{6 - x^{2}}{x^{4}}$"
      ],
      "text/plain": [
       "(6 - x**2)/x**4"
      ]
     },
     "execution_count": 161,
     "metadata": {},
     "output_type": "execute_result"
    }
   ],
   "source": [
    "+(-(x**2-6)/(x**4))"
   ]
  },
  {
   "cell_type": "markdown",
   "id": "280ad1dd-1246-492b-ba3a-283eee8ee1d4",
   "metadata": {},
   "source": [
    "## Oppgave 1 I"
   ]
  },
  {
   "cell_type": "code",
   "execution_count": 162,
   "id": "30a83f2f-ec09-4a22-b7ea-c6aefc56227a",
   "metadata": {},
   "outputs": [
    {
     "data": {
      "text/latex": [
       "$\\displaystyle \\frac{13 x^{\\frac{11}{2}}}{2}$"
      ],
      "text/plain": [
       "13*x**(11/2)/2"
      ]
     },
     "execution_count": 162,
     "metadata": {},
     "output_type": "execute_result"
    }
   ],
   "source": [
    "sp.diff(sqrt(x)*x**6)"
   ]
  },
  {
   "cell_type": "markdown",
   "id": "0d165342-b064-40cf-b105-eea675befdaf",
   "metadata": {},
   "source": [
    "## Oppgave 1 J"
   ]
  },
  {
   "cell_type": "code",
   "execution_count": 163,
   "id": "bf56b78b-cba3-4866-a2ba-529bdf7ad774",
   "metadata": {},
   "outputs": [
    {
     "data": {
      "text/latex": [
       "$\\displaystyle 3 x^{2} + 1$"
      ],
      "text/plain": [
       "3*x**2 + 1"
      ]
     },
     "execution_count": 163,
     "metadata": {},
     "output_type": "execute_result"
    }
   ],
   "source": [
    "sp.diff(x*(x**2+1))"
   ]
  },
  {
   "cell_type": "markdown",
   "id": "6d45d8e6-cae0-4097-b921-47ddef47e446",
   "metadata": {},
   "source": [
    "## Oppgave 1 K"
   ]
  },
  {
   "cell_type": "code",
   "execution_count": 164,
   "id": "be245802-b180-49c5-9432-3a64e873b88f",
   "metadata": {},
   "outputs": [
    {
     "data": {
      "text/latex": [
       "$\\displaystyle - \\frac{x \\left(x^{3} + 12 x + 2\\right)}{\\left(x - 1\\right)^{2} \\left(x^{2} + x + 1\\right)^{2}}$"
      ],
      "text/plain": [
       "-x*(x**3 + 12*x + 2)/((x - 1)**2*(x**2 + x + 1)**2)"
      ]
     },
     "execution_count": 164,
     "metadata": {},
     "output_type": "execute_result"
    }
   ],
   "source": [
    "f=sp.diff((x**2+4)/(x**3-1))\n",
    "factor(f)"
   ]
  },
  {
   "cell_type": "markdown",
   "id": "161943a1-c2cf-421d-8e81-871e2a39c8a2",
   "metadata": {},
   "source": [
    "## Oppgave 1 L"
   ]
  },
  {
   "cell_type": "code",
   "execution_count": 165,
   "id": "3daec8e5-5a19-445c-bf13-d1bdb16ce336",
   "metadata": {},
   "outputs": [
    {
     "data": {
      "text/latex": [
       "$\\displaystyle \\frac{x^{2} \\left(- 2 x - 2\\right)}{\\left(x^{2} + 2 x\\right)^{2}} + \\frac{2 x}{x^{2} + 2 x}$"
      ],
      "text/plain": [
       "x**2*(-2*x - 2)/(x**2 + 2*x)**2 + 2*x/(x**2 + 2*x)"
      ]
     },
     "execution_count": 165,
     "metadata": {},
     "output_type": "execute_result"
    }
   ],
   "source": [
    "sp.diff(x**2/(x**2+2*x))"
   ]
  },
  {
   "cell_type": "markdown",
   "id": "abbf2117-e984-45e4-a2bf-6652b13178e2",
   "metadata": {},
   "source": [
    "## Oppgave 1 M"
   ]
  },
  {
   "cell_type": "code",
   "execution_count": 166,
   "id": "5141554b-062e-4cf4-9db4-6abfa1b79c22",
   "metadata": {},
   "outputs": [
    {
     "data": {
      "text/latex": [
       "$\\displaystyle \\frac{x^{2} - 4 x - 10}{\\left(x - 2\\right)^{2}}$"
      ],
      "text/plain": [
       "(x**2 - 4*x - 10)/(x - 2)**2"
      ]
     },
     "execution_count": 166,
     "metadata": {},
     "output_type": "execute_result"
    }
   ],
   "source": [
    "f=sp.diff((x**2+4*x+2)/(x-2))\n",
    "factor(f)"
   ]
  },
  {
   "cell_type": "markdown",
   "id": "fbec164d-e634-44d7-887b-29c12c2b083a",
   "metadata": {},
   "source": [
    "## Oppgave 2 A"
   ]
  },
  {
   "cell_type": "code",
   "execution_count": 167,
   "id": "a13b9f3a-6c15-42ac-9a67-fb2bba4c0dba",
   "metadata": {},
   "outputs": [
    {
     "data": {
      "text/latex": [
       "$\\displaystyle \\frac{x^{4} - x^{2} + 2}{\\left(x - 1\\right)^{2} \\left(x + 1\\right)^{2}}$"
      ],
      "text/plain": [
       "(x**4 - x**2 + 2)/((x - 1)**2*(x + 1)**2)"
      ]
     },
     "execution_count": 167,
     "metadata": {},
     "output_type": "execute_result"
    }
   ],
   "source": [
    "f=sp.diff((x**3-2*x)/(x**2-1))\n",
    "factor(f)"
   ]
  },
  {
   "cell_type": "markdown",
   "id": "0cfbfef4-6ebe-43be-a591-bd0a298e98a9",
   "metadata": {},
   "source": [
    "## Oppgave 2 B"
   ]
  },
  {
   "cell_type": "code",
   "execution_count": 168,
   "id": "95651542-ea8a-462a-9ec9-07ec99a91070",
   "metadata": {},
   "outputs": [
    {
     "data": {
      "text/latex": [
       "$\\displaystyle 4 x^{3}$"
      ],
      "text/plain": [
       "4*x**3"
      ]
     },
     "execution_count": 168,
     "metadata": {},
     "output_type": "execute_result"
    }
   ],
   "source": [
    "f=sp.diff((x**2+1)*(x**2-1))\n",
    "factor(f)"
   ]
  },
  {
   "cell_type": "markdown",
   "id": "425ecee9-529a-4523-be5a-83f2f5921b0a",
   "metadata": {},
   "source": [
    "## Oppgave 2 C"
   ]
  },
  {
   "cell_type": "code",
   "execution_count": 169,
   "id": "fd746665-b289-49fa-bb18-6a51815aebfb",
   "metadata": {},
   "outputs": [
    {
     "data": {
      "text/latex": [
       "$\\displaystyle - \\frac{3 \\left(2 x^{3} - 4 x^{2} - 7\\right)}{\\left(x^{3} + 7\\right)^{2}}$"
      ],
      "text/plain": [
       "-3*(2*x**3 - 4*x**2 - 7)/(x**3 + 7)**2"
      ]
     },
     "execution_count": 169,
     "metadata": {},
     "output_type": "execute_result"
    }
   ],
   "source": [
    "f=sp.diff((3*x-4)/(x**3+7))\n",
    "factor(f)"
   ]
  },
  {
   "cell_type": "markdown",
   "id": "ee4c417f-aa46-4be6-bf67-a72f18e9fa19",
   "metadata": {},
   "source": [
    "# Oppgavesett 21"
   ]
  },
  {
   "cell_type": "markdown",
   "id": "99b9f51c-ed99-46d6-936e-ddd1d2b1ada1",
   "metadata": {},
   "source": [
    "## Oppgave 1 A"
   ]
  },
  {
   "cell_type": "code",
   "execution_count": 170,
   "id": "49fe1ccc-18d3-4d04-884e-f97f007bcea3",
   "metadata": {},
   "outputs": [
    {
     "data": {
      "text/latex": [
       "$\\displaystyle 15 x^{4} \\left(x^{2} + 2\\right) \\left(x^{2} + 6\\right)^{4}$"
      ],
      "text/plain": [
       "15*x**4*(x**2 + 2)*(x**2 + 6)**4"
      ]
     },
     "execution_count": 170,
     "metadata": {},
     "output_type": "execute_result"
    }
   ],
   "source": [
    "f=sp.diff((x**3+6*x)**5)\n",
    "factor(f)"
   ]
  },
  {
   "cell_type": "markdown",
   "id": "375be759-ef70-4dc8-b678-61faab3648c7",
   "metadata": {},
   "source": [
    "## Oppgave 1 B"
   ]
  },
  {
   "cell_type": "code",
   "execution_count": 171,
   "id": "da9ffc50-1e4f-4dd9-a1f2-ab9ead050112",
   "metadata": {},
   "outputs": [
    {
     "data": {
      "text/latex": [
       "$\\displaystyle \\frac{2 x}{\\sqrt{2 x^{2} + 5}}$"
      ],
      "text/plain": [
       "2*x/sqrt(2*x**2 + 5)"
      ]
     },
     "execution_count": 171,
     "metadata": {},
     "output_type": "execute_result"
    }
   ],
   "source": [
    "sp.diff(sqrt(2*x**2+5))\n"
   ]
  },
  {
   "cell_type": "markdown",
   "id": "90553586-5b9e-4531-94ad-2db14e636b48",
   "metadata": {},
   "source": [
    "## Oppgave 1 C"
   ]
  },
  {
   "cell_type": "code",
   "execution_count": 172,
   "id": "7072c77d-3d62-49f4-85d6-79b516879334",
   "metadata": {},
   "outputs": [
    {
     "data": {
      "text/latex": [
       "$\\displaystyle - \\frac{8 \\left(3 x + 2\\right)^{3}}{x^{5}}$"
      ],
      "text/plain": [
       "-8*(3*x + 2)**3/x**5"
      ]
     },
     "execution_count": 172,
     "metadata": {},
     "output_type": "execute_result"
    }
   ],
   "source": [
    "f=sp.diff((2*x/x**2+3)**4)\n",
    "factor(f)"
   ]
  },
  {
   "cell_type": "markdown",
   "id": "2a9f1480-475a-4666-803e-10f83fe4dfb0",
   "metadata": {},
   "source": [
    "## Oppgave 1 D"
   ]
  },
  {
   "cell_type": "code",
   "execution_count": 173,
   "id": "c761a952-2695-4f9e-9779-5e1e3fda160f",
   "metadata": {},
   "outputs": [
    {
     "data": {
      "text/latex": [
       "$\\displaystyle 12.0 x^{3} \\left(2 x^{4} + 9\\right)^{0.5}$"
      ],
      "text/plain": [
       "12.0*x**3*(2*x**4 + 9)**0.5"
      ]
     },
     "execution_count": 173,
     "metadata": {},
     "output_type": "execute_result"
    }
   ],
   "source": [
    "f=sp.diff((2*x**4+9)**1.5)\n",
    "factor(f)"
   ]
  },
  {
   "cell_type": "markdown",
   "id": "47157102-b51e-40a8-be5a-716cf6172824",
   "metadata": {},
   "source": [
    "## Oppgave 1 E"
   ]
  },
  {
   "cell_type": "code",
   "execution_count": 174,
   "id": "1d7d93d9-7184-4163-b197-8d10d6f68f5e",
   "metadata": {},
   "outputs": [
    {
     "data": {
      "text/latex": [
       "$\\displaystyle - \\frac{x}{\\left(x^{2} + 1\\right)^{\\frac{3}{2}}}$"
      ],
      "text/plain": [
       "-x/(x**2 + 1)**(3/2)"
      ]
     },
     "execution_count": 174,
     "metadata": {},
     "output_type": "execute_result"
    }
   ],
   "source": [
    "f=sp.diff((1/sqrt(1+x**2)))\n",
    "factor(f)"
   ]
  },
  {
   "cell_type": "markdown",
   "id": "b9aab581-a0b1-4489-93af-5741966ee525",
   "metadata": {},
   "source": [
    "## Oppgave 1 F"
   ]
  },
  {
   "cell_type": "code",
   "execution_count": 175,
   "id": "eb553e11-12d3-43e6-b78c-8f9200bbc99b",
   "metadata": {},
   "outputs": [
    {
     "data": {
      "text/latex": [
       "$\\displaystyle 2 x^{4} \\left(x + 2\\right)^{2} \\left(4 x + 5\\right)$"
      ],
      "text/plain": [
       "2*x**4*(x + 2)**2*(4*x + 5)"
      ]
     },
     "execution_count": 175,
     "metadata": {},
     "output_type": "execute_result"
    }
   ],
   "source": [
    "f=sp.diff(x**2*(x**2+2*x)**3)\n",
    "factor(f)"
   ]
  },
  {
   "cell_type": "markdown",
   "id": "e4d299e2-62e6-4109-96f9-132e9cde701a",
   "metadata": {},
   "source": [
    "## Oppgave 1 G"
   ]
  },
  {
   "cell_type": "code",
   "execution_count": 176,
   "id": "64468edf-2aed-4090-ad15-2fe4968d53d5",
   "metadata": {},
   "outputs": [
    {
     "data": {
      "text/latex": [
       "$\\displaystyle \\frac{x^{2} \\left(3 x - 5\\right)}{\\sqrt{x \\left(x - 2\\right)}}$"
      ],
      "text/plain": [
       "x**2*(3*x - 5)/sqrt(x*(x - 2))"
      ]
     },
     "execution_count": 176,
     "metadata": {},
     "output_type": "execute_result"
    }
   ],
   "source": [
    "f=sp.diff(x**2*sqrt(x**2-2*x))\n",
    "factor(f)"
   ]
  },
  {
   "cell_type": "markdown",
   "id": "c5e24b82-b66e-4597-9f0e-cc541c3af585",
   "metadata": {},
   "source": [
    "## Oppgave 1 H"
   ]
  },
  {
   "cell_type": "code",
   "execution_count": 177,
   "id": "47129f49-6e08-492b-a500-3e8cb555f72c",
   "metadata": {},
   "outputs": [
    {
     "data": {
      "text/latex": [
       "$\\displaystyle - \\frac{4 x + 1}{x^{2} \\left(x + 1\\right)^{4}}$"
      ],
      "text/plain": [
       "-(4*x + 1)/(x**2*(x + 1)**4)"
      ]
     },
     "execution_count": 177,
     "metadata": {},
     "output_type": "execute_result"
    }
   ],
   "source": [
    "f=sp.diff(x**2/(x**2+x)**3)\n",
    "factor(f)"
   ]
  },
  {
   "cell_type": "markdown",
   "id": "2e7ef289-4869-4ca8-85d1-154302cb281a",
   "metadata": {},
   "source": [
    "## Oppgave 1 I"
   ]
  },
  {
   "cell_type": "code",
   "execution_count": 178,
   "id": "73c4c940-319c-44f2-b467-52d1e1c3f53f",
   "metadata": {},
   "outputs": [
    {
     "data": {
      "text/latex": [
       "$\\displaystyle x \\left(x + 1\\right)^{2} \\left(x^{2} + 1\\right) \\left(x^{2} - x + 1\\right)^{2} \\left(13 x^{3} + 9 x + 4\\right)$"
      ],
      "text/plain": [
       "x*(x + 1)**2*(x**2 + 1)*(x**2 - x + 1)**2*(13*x**3 + 9*x + 4)"
      ]
     },
     "execution_count": 178,
     "metadata": {},
     "output_type": "execute_result"
    }
   ],
   "source": [
    "f=sp.diff((x**2+1)**2*(x**3+1)**3)\n",
    "factor(f)"
   ]
  },
  {
   "cell_type": "markdown",
   "id": "d1464236-438f-411e-bd26-f96373471abd",
   "metadata": {},
   "source": [
    "## Oppgave 2 A"
   ]
  },
  {
   "cell_type": "code",
   "execution_count": 179,
   "id": "5519fd1e-c17a-4541-89ef-4d472ac87a55",
   "metadata": {},
   "outputs": [
    {
     "data": {
      "text/latex": [
       "$\\displaystyle \\frac{4 \\sqrt{x^{4} \\left(3 x + 2\\right)^{4}} \\left(3 x + 1\\right)}{x \\left(3 x + 2\\right)}$"
      ],
      "text/plain": [
       "4*sqrt(x**4*(3*x + 2)**4)*(3*x + 1)/(x*(3*x + 2))"
      ]
     },
     "execution_count": 179,
     "metadata": {},
     "output_type": "execute_result"
    }
   ],
   "source": [
    "f=sp.diff(sqrt((3*x**2+2*x)**4))\n",
    "factor(f)"
   ]
  },
  {
   "cell_type": "markdown",
   "id": "f944ca64-ba3d-4560-91a9-ad8794ba2aec",
   "metadata": {},
   "source": [
    "## Oppgave 2 B"
   ]
  },
  {
   "cell_type": "code",
   "execution_count": 180,
   "id": "7a3f76a7-1dfe-4292-be60-10d26f45a3e6",
   "metadata": {},
   "outputs": [
    {
     "data": {
      "text/latex": [
       "$\\displaystyle x \\left(x^{2} + 3\\right)^{3} \\left(x^{3} + 3\\right)^{4} \\left(23 x^{3} + 45 x + 24\\right)$"
      ],
      "text/plain": [
       "x*(x**2 + 3)**3*(x**3 + 3)**4*(23*x**3 + 45*x + 24)"
      ]
     },
     "execution_count": 180,
     "metadata": {},
     "output_type": "execute_result"
    }
   ],
   "source": [
    "f=sp.diff((x**3+3)**5*(x**2+3)**4)\n",
    "factor(f)"
   ]
  },
  {
   "cell_type": "markdown",
   "id": "d9670fc8-efe0-41b7-8c64-847c13914373",
   "metadata": {},
   "source": [
    "## Oppgave 2 C"
   ]
  },
  {
   "cell_type": "code",
   "execution_count": 181,
   "id": "9773fe53-7958-40dc-9c00-8a3761034bc3",
   "metadata": {},
   "outputs": [
    {
     "data": {
      "text/latex": [
       "$\\displaystyle \\frac{x \\left(3 x^{2} + 2\\right)}{\\sqrt{x^{2} + 1}}$"
      ],
      "text/plain": [
       "x*(3*x**2 + 2)/sqrt(x**2 + 1)"
      ]
     },
     "execution_count": 181,
     "metadata": {},
     "output_type": "execute_result"
    }
   ],
   "source": [
    "f=sp.diff(sqrt(x**2+1)*x**2)\n",
    "factor(f)"
   ]
  },
  {
   "cell_type": "markdown",
   "id": "746a2860-f95b-447a-a5b0-56cf8e71f7da",
   "metadata": {},
   "source": [
    "## Oppgave 2 D"
   ]
  },
  {
   "cell_type": "code",
   "execution_count": 182,
   "id": "defb9ff9-d2af-4bc4-89db-3018189c63bb",
   "metadata": {},
   "outputs": [
    {
     "data": {
      "text/latex": [
       "$\\displaystyle 2 \\left(3 x + 2\\right)^{2} \\left(6 x + 1\\right)$"
      ],
      "text/plain": [
       "2*(3*x + 2)**2*(6*x + 1)"
      ]
     },
     "execution_count": 182,
     "metadata": {},
     "output_type": "execute_result"
    }
   ],
   "source": [
    "f=sp.diff((2*x+3*x**2)**3/x**2)\n",
    "factor(f)"
   ]
  },
  {
   "cell_type": "markdown",
   "id": "b0107d69-5a1b-41dc-8da1-0c85674e5b63",
   "metadata": {},
   "source": [
    "## Oppgave 2 E"
   ]
  },
  {
   "cell_type": "code",
   "execution_count": 183,
   "id": "27ca69bd-e8e4-4cc4-8d12-dc7a2556bbfa",
   "metadata": {},
   "outputs": [
    {
     "data": {
      "text/latex": [
       "$\\displaystyle \\frac{6 x^{3}}{\\sqrt{x^{4} - 5}}$"
      ],
      "text/plain": [
       "6*x**3/sqrt(x**4 - 5)"
      ]
     },
     "execution_count": 183,
     "metadata": {},
     "output_type": "execute_result"
    }
   ],
   "source": [
    "f=sp.diff(3*sqrt(x**4-5))\n",
    "factor(f)"
   ]
  },
  {
   "cell_type": "markdown",
   "id": "c541ae25-c1cc-4032-a1b5-d260ec0d3a20",
   "metadata": {},
   "source": [
    "## Oppgave 2 F"
   ]
  },
  {
   "cell_type": "code",
   "execution_count": 184,
   "id": "e3526a31-6f3f-42f2-b566-09c77d9ff811",
   "metadata": {},
   "outputs": [
    {
     "data": {
      "text/latex": [
       "$\\displaystyle \\frac{x^{2} \\left(x^{4} - 3\\right)}{\\left(\\left(x - 1\\right) \\left(x + 1\\right) \\left(x^{2} + 1\\right)\\right)^{\\frac{3}{2}}}$"
      ],
      "text/plain": [
       "x**2*(x**4 - 3)/((x - 1)*(x + 1)*(x**2 + 1))**(3/2)"
      ]
     },
     "execution_count": 184,
     "metadata": {},
     "output_type": "execute_result"
    }
   ],
   "source": [
    "f=sp.diff(x**3/sqrt(x**4-1))\n",
    "factor(f)"
   ]
  },
  {
   "cell_type": "markdown",
   "id": "306d8214-5121-4b42-899b-14d3713b9f62",
   "metadata": {},
   "source": [
    "# Oppgavesett 22"
   ]
  },
  {
   "cell_type": "markdown",
   "id": "fd896cd5-dd72-4bfc-94be-ba98c86aa7e4",
   "metadata": {},
   "source": [
    "## Oppgave 1 A"
   ]
  },
  {
   "cell_type": "code",
   "execution_count": 185,
   "id": "56ee8161-2a23-424b-bf77-6683127085be",
   "metadata": {},
   "outputs": [
    {
     "data": {
      "text/latex": [
       "$\\displaystyle \\frac{1}{x}$"
      ],
      "text/plain": [
       "1/x"
      ]
     },
     "execution_count": 185,
     "metadata": {},
     "output_type": "execute_result"
    }
   ],
   "source": [
    "sp.diff(ln(5*x))"
   ]
  },
  {
   "cell_type": "markdown",
   "id": "4f7b6b75-2a9f-4239-9dd9-6f05da928bbb",
   "metadata": {},
   "source": [
    "## Oppgave 1 B"
   ]
  },
  {
   "cell_type": "code",
   "execution_count": 186,
   "id": "679d883e-8c98-43d9-ac0c-1d1474100982",
   "metadata": {},
   "outputs": [
    {
     "data": {
      "text/latex": [
       "$\\displaystyle - 2 e^{- 2 x}$"
      ],
      "text/plain": [
       "-2*exp(-2*x)"
      ]
     },
     "execution_count": 186,
     "metadata": {},
     "output_type": "execute_result"
    }
   ],
   "source": [
    "sp.diff(exp(-2*x))"
   ]
  },
  {
   "cell_type": "markdown",
   "id": "975f2f7d-82fa-4b50-9eb6-eb4540a3718b",
   "metadata": {},
   "source": [
    "## Oppgave 1 C"
   ]
  },
  {
   "cell_type": "code",
   "execution_count": 187,
   "id": "c77a3142-3e64-428d-aaa7-ab62bdba9788",
   "metadata": {},
   "outputs": [
    {
     "data": {
      "text/latex": [
       "$\\displaystyle \\frac{1}{x}$"
      ],
      "text/plain": [
       "1/x"
      ]
     },
     "execution_count": 187,
     "metadata": {},
     "output_type": "execute_result"
    }
   ],
   "source": [
    "sp.diff((ln(12*x)-3))"
   ]
  },
  {
   "cell_type": "markdown",
   "id": "9c8faff1-e48d-40f4-9ec6-5d9425a03535",
   "metadata": {},
   "source": [
    "## Oppgave 1 D"
   ]
  },
  {
   "cell_type": "code",
   "execution_count": 188,
   "id": "75848e01-910b-442d-aae6-1c8bc3b77062",
   "metadata": {},
   "outputs": [
    {
     "data": {
      "text/latex": [
       "$\\displaystyle 2^{x} \\log{\\left(2 \\right)}$"
      ],
      "text/plain": [
       "2**x*log(2)"
      ]
     },
     "execution_count": 188,
     "metadata": {},
     "output_type": "execute_result"
    }
   ],
   "source": [
    "sp.diff((2**x))"
   ]
  },
  {
   "cell_type": "markdown",
   "id": "6b8becc6-a322-4210-ae4e-2fe51e39077f",
   "metadata": {},
   "source": [
    "## Oppgave 1 E"
   ]
  },
  {
   "cell_type": "code",
   "execution_count": 189,
   "id": "c1b7347c-c9ed-409b-9ff0-888b1edf4cf9",
   "metadata": {},
   "outputs": [
    {
     "data": {
      "text/latex": [
       "$\\displaystyle 3 e^{3 x + 5}$"
      ],
      "text/plain": [
       "3*exp(3*x + 5)"
      ]
     },
     "execution_count": 189,
     "metadata": {},
     "output_type": "execute_result"
    }
   ],
   "source": [
    "sp.diff(exp(3*x+5))"
   ]
  },
  {
   "cell_type": "markdown",
   "id": "909d6f78-2301-408d-b926-e6e548115b94",
   "metadata": {},
   "source": [
    "## Oppgave 1 F"
   ]
  },
  {
   "cell_type": "code",
   "execution_count": 190,
   "id": "8215fab6-4689-4295-9eaf-7e99f8b8c79f",
   "metadata": {},
   "outputs": [
    {
     "data": {
      "text/latex": [
       "$\\displaystyle \\frac{5 x^{4}}{x^{5} + 1}$"
      ],
      "text/plain": [
       "5*x**4/(x**5 + 1)"
      ]
     },
     "execution_count": 190,
     "metadata": {},
     "output_type": "execute_result"
    }
   ],
   "source": [
    "sp.diff(ln(x**5+1))"
   ]
  },
  {
   "cell_type": "markdown",
   "id": "f5b8dca2-fe6f-4a00-9d81-7c12ba6fb07f",
   "metadata": {},
   "source": [
    "## Oppgave 1 G"
   ]
  },
  {
   "cell_type": "code",
   "execution_count": 191,
   "id": "ddf6ab57-8175-473b-aa0e-4bec60d5a0fc",
   "metadata": {},
   "outputs": [
    {
     "data": {
      "text/latex": [
       "$\\displaystyle \\left(8 x + 8\\right) e^{4 x^{2} + 8 x}$"
      ],
      "text/plain": [
       "(8*x + 8)*exp(4*x**2 + 8*x)"
      ]
     },
     "execution_count": 191,
     "metadata": {},
     "output_type": "execute_result"
    }
   ],
   "source": [
    "sp.diff(exp(4*x**2+8*x))"
   ]
  },
  {
   "cell_type": "markdown",
   "id": "55223d28-00a0-43cf-bcd9-e05a6d9a77a4",
   "metadata": {},
   "source": [
    "## Oppgave 1 H"
   ]
  },
  {
   "cell_type": "code",
   "execution_count": 192,
   "id": "39038b69-69d9-4444-aaed-0b8858bb7f32",
   "metadata": {},
   "outputs": [
    {
     "data": {
      "text/latex": [
       "$\\displaystyle - \\frac{1}{x}$"
      ],
      "text/plain": [
       "-1/x"
      ]
     },
     "execution_count": 192,
     "metadata": {},
     "output_type": "execute_result"
    }
   ],
   "source": [
    "sp.diff(ln(1/x))"
   ]
  },
  {
   "cell_type": "markdown",
   "id": "54d284b8-3d05-48a2-865e-2b025a821aa9",
   "metadata": {},
   "source": [
    "## Oppgave 1 I"
   ]
  },
  {
   "cell_type": "code",
   "execution_count": 193,
   "id": "284779bc-c957-40b4-991e-749471eca1ed",
   "metadata": {},
   "outputs": [
    {
     "data": {
      "text/latex": [
       "$\\displaystyle 12 e^{4 x} + \\frac{6}{x}$"
      ],
      "text/plain": [
       "12*exp(4*x) + 6/x"
      ]
     },
     "execution_count": 193,
     "metadata": {},
     "output_type": "execute_result"
    }
   ],
   "source": [
    "sp.diff(6*ln(x)+3*exp(4*x))"
   ]
  },
  {
   "cell_type": "markdown",
   "id": "c369ec28-e246-4a4f-bde7-8894c464bb6b",
   "metadata": {},
   "source": [
    "## Oppgave 1 J"
   ]
  },
  {
   "cell_type": "code",
   "execution_count": 194,
   "id": "92d0e194-b947-4cc6-9470-2736ca9d4e78",
   "metadata": {},
   "outputs": [
    {
     "data": {
      "text/latex": [
       "$\\displaystyle - x e^{- x} + e^{- x}$"
      ],
      "text/plain": [
       "-x*exp(-x) + exp(-x)"
      ]
     },
     "execution_count": 194,
     "metadata": {},
     "output_type": "execute_result"
    }
   ],
   "source": [
    "sp.diff(x*exp(-x))"
   ]
  },
  {
   "cell_type": "markdown",
   "id": "d9afee40-6f43-49e7-87a9-d7c1876d8243",
   "metadata": {},
   "source": [
    "## Oppgave 1 K"
   ]
  },
  {
   "cell_type": "code",
   "execution_count": 195,
   "id": "d98c3552-93ae-441d-a0ea-3350336976bd",
   "metadata": {},
   "outputs": [
    {
     "data": {
      "text/latex": [
       "$\\displaystyle \\frac{2 x^{3}}{x^{2} + 2} + 2 x \\log{\\left(x^{2} + 2 \\right)}$"
      ],
      "text/plain": [
       "2*x**3/(x**2 + 2) + 2*x*log(x**2 + 2)"
      ]
     },
     "execution_count": 195,
     "metadata": {},
     "output_type": "execute_result"
    }
   ],
   "source": [
    "sp.diff(x**2*ln(x**2+2))"
   ]
  },
  {
   "cell_type": "markdown",
   "id": "61a752c7-4c57-4c8a-9cac-8963919b5689",
   "metadata": {},
   "source": [
    "## Oppgave 2 A"
   ]
  },
  {
   "cell_type": "code",
   "execution_count": 196,
   "id": "30880302-3f5a-4588-9063-9bff7311c9bf",
   "metadata": {},
   "outputs": [
    {
     "data": {
      "text/latex": [
       "$\\displaystyle x^{2} \\left(2 x + 3\\right) e^{2 x}$"
      ],
      "text/plain": [
       "x**2*(2*x + 3)*exp(2*x)"
      ]
     },
     "execution_count": 196,
     "metadata": {},
     "output_type": "execute_result"
    }
   ],
   "source": [
    "f=sp.diff(x**3*exp(2*x))\n",
    "factor(f)"
   ]
  },
  {
   "cell_type": "markdown",
   "id": "45b15e3f-2e95-4a0c-bfbf-ff73165138e9",
   "metadata": {},
   "source": [
    "## Oppgave 2 B"
   ]
  },
  {
   "cell_type": "code",
   "execution_count": 197,
   "id": "53b80e2b-5028-4185-ab66-2d4f73028db9",
   "metadata": {},
   "outputs": [
    {
     "data": {
      "text/latex": [
       "$\\displaystyle \\frac{4 x}{\\left(x - 1\\right) \\left(x + 1\\right) \\left(x^{2} + 1\\right)}$"
      ],
      "text/plain": [
       "4*x/((x - 1)*(x + 1)*(x**2 + 1))"
      ]
     },
     "execution_count": 197,
     "metadata": {},
     "output_type": "execute_result"
    }
   ],
   "source": [
    "f=sp.diff(ln((x**2-1)/(x**2+1)))\n",
    "factor(f)"
   ]
  },
  {
   "cell_type": "markdown",
   "id": "6cf3235a-2653-4eb3-bd4b-4455c56dab6d",
   "metadata": {},
   "source": [
    "## Oppgave 2 C"
   ]
  },
  {
   "cell_type": "code",
   "execution_count": 198,
   "id": "a170525d-3312-4456-87c1-f044c4b26aa0",
   "metadata": {},
   "outputs": [
    {
     "data": {
      "text/latex": [
       "$\\displaystyle \\frac{2 x^{3}}{x^{2} + 2} + 2 x \\log{\\left(x^{2} + 2 \\right)}$"
      ],
      "text/plain": [
       "2*x**3/(x**2 + 2) + 2*x*log(x**2 + 2)"
      ]
     },
     "execution_count": 198,
     "metadata": {},
     "output_type": "execute_result"
    }
   ],
   "source": [
    "sp.diff(x**2*ln(x**2+2))"
   ]
  },
  {
   "cell_type": "markdown",
   "id": "70a1684a-00ee-4aa2-bd73-eb81b521f73b",
   "metadata": {},
   "source": [
    "## Oppgave 2 D"
   ]
  },
  {
   "cell_type": "code",
   "execution_count": 199,
   "id": "ec5c194b-4c73-44d7-a828-da758341322f",
   "metadata": {},
   "outputs": [
    {
     "data": {
      "text/latex": [
       "$\\displaystyle - \\frac{\\left(x + 1\\right)^{2} e^{- x}}{\\left(x^{2} + 1\\right)^{2}}$"
      ],
      "text/plain": [
       "-(x + 1)**2*exp(-x)/(x**2 + 1)**2"
      ]
     },
     "execution_count": 199,
     "metadata": {},
     "output_type": "execute_result"
    }
   ],
   "source": [
    "f=sp.diff((exp(-x)/(x**2+1)))\n",
    "factor(f)"
   ]
  }
 ],
 "metadata": {
  "kernelspec": {
   "display_name": "Python 3 (ipykernel)",
   "language": "python",
   "name": "python3"
  },
  "language_info": {
   "codemirror_mode": {
    "name": "ipython",
    "version": 3
   },
   "file_extension": ".py",
   "mimetype": "text/x-python",
   "name": "python",
   "nbconvert_exporter": "python",
   "pygments_lexer": "ipython3",
   "version": "3.9.5"
  }
 },
 "nbformat": 4,
 "nbformat_minor": 5
}
