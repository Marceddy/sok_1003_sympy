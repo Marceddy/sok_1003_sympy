{
 "cells": [
  {
   "cell_type": "code",
   "execution_count": 14,
   "id": "3bfc5ef6-516f-4e7c-8d8d-75a18b108767",
   "metadata": {},
   "outputs": [],
   "source": [
    "import matplotlib.pyplot as plt\n",
    "import numpy as np\n",
    "import sympy as sp\n",
    "from sympy import *"
   ]
  },
  {
   "cell_type": "markdown",
   "id": "45ccf166-099e-4f50-8dba-bad0e4563707",
   "metadata": {},
   "source": [
    "# Oppgavesett 15"
   ]
  },
  {
   "cell_type": "markdown",
   "id": "8696788f-ea77-43f4-b418-b0f281dcbd0e",
   "metadata": {},
   "source": [
    "## Oppgave 1A"
   ]
  },
  {
   "cell_type": "code",
   "execution_count": 15,
   "id": "f32fc2b8-8c7b-436a-b1c8-8f6dd35d3670",
   "metadata": {},
   "outputs": [],
   "source": [
    "x,y=sp.symbols(\"x y\")"
   ]
  },
  {
   "cell_type": "code",
   "execution_count": 16,
   "id": "17c1d5be-61ce-4550-b9e3-98e05759097f",
   "metadata": {},
   "outputs": [
    {
     "data": {
      "text/plain": [
       "{x: -1, y: 2}"
      ]
     },
     "execution_count": 16,
     "metadata": {},
     "output_type": "execute_result"
    }
   ],
   "source": [
    "eq1=sp.Eq(2*x+4+4,6)\n",
    "eq2=sp.Eq(-2*x+y,4)\n",
    "solve([eq1,eq2],[x,y])"
   ]
  },
  {
   "cell_type": "markdown",
   "id": "200c63ed-1ff6-467f-b530-d98c828ba81c",
   "metadata": {},
   "source": [
    "## Oppgave 1 B"
   ]
  },
  {
   "cell_type": "code",
   "execution_count": 17,
   "id": "854f95e5-9ee7-44ed-a5f2-695737e9b767",
   "metadata": {},
   "outputs": [
    {
     "data": {
      "text/plain": [
       "[(-1, -1), (2, 5)]"
      ]
     },
     "execution_count": 17,
     "metadata": {},
     "output_type": "execute_result"
    }
   ],
   "source": [
    "eq3=sp.Eq(2*x-y,-1)\n",
    "eq4=sp.Eq(x**2+x-y,1)\n",
    "solve([eq3,eq4],[x,y])"
   ]
  },
  {
   "cell_type": "markdown",
   "id": "7fb2231e-e331-43fc-b22a-2f2deb60589f",
   "metadata": {},
   "source": [
    "## Oppgave 2 A"
   ]
  },
  {
   "cell_type": "code",
   "execution_count": 18,
   "id": "87a668db-2ca9-4c81-9a6a-049507653885",
   "metadata": {},
   "outputs": [
    {
     "data": {
      "text/plain": [
       "{x: 4, y: 0}"
      ]
     },
     "execution_count": 18,
     "metadata": {},
     "output_type": "execute_result"
    }
   ],
   "source": [
    "eq5=sp.Eq(3*x-12,-6*y)\n",
    "eq6=sp.Eq(4*x-8*y,16)\n",
    "solve([eq5,eq6],[x,y])"
   ]
  },
  {
   "cell_type": "markdown",
   "id": "97d97197-3e30-430f-b5dc-f3af0308b951",
   "metadata": {},
   "source": [
    "## Oppgave 2 B"
   ]
  },
  {
   "cell_type": "code",
   "execution_count": 19,
   "id": "6e23b734-ac41-4c29-a37a-ad04e00893d1",
   "metadata": {},
   "outputs": [
    {
     "data": {
      "text/plain": [
       "[(-15/2, 31/4), (2, 3)]"
      ]
     },
     "execution_count": 19,
     "metadata": {},
     "output_type": "execute_result"
    }
   ],
   "source": [
    "eq7=sp.Eq(x**2+4*x-3,3*y)\n",
    "eq8=sp.Eq(2*y,8-x)\n",
    "solve([eq7,eq8],[x,y])"
   ]
  },
  {
   "cell_type": "markdown",
   "id": "bab5d821-02d7-477f-90cd-d7258729f3c1",
   "metadata": {},
   "source": [
    "# Oppgavesett 16"
   ]
  },
  {
   "cell_type": "markdown",
   "id": "a72e53b5-e43b-454f-814f-127fcb4c7517",
   "metadata": {},
   "source": [
    "## Oppgave 1 A"
   ]
  },
  {
   "cell_type": "code",
   "execution_count": 20,
   "id": "8f6aaccf-d4fb-46fb-b763-3a324d8ef0e7",
   "metadata": {},
   "outputs": [
    {
     "data": {
      "text/plain": [
       "{x: 5/2, y: 7/2}"
      ]
     },
     "execution_count": 20,
     "metadata": {},
     "output_type": "execute_result"
    }
   ],
   "source": [
    "eq1=sp.Eq(2*x+2*y,12)\n",
    "eq2=sp.Eq(6*x-2*y,8)\n",
    "solve([eq1,eq2],[x,y])"
   ]
  },
  {
   "cell_type": "markdown",
   "id": "def4cd15-74cb-4be6-87aa-55eecd56234b",
   "metadata": {},
   "source": [
    "## Oppgave 1 B"
   ]
  },
  {
   "cell_type": "code",
   "execution_count": 21,
   "id": "19446e18-710a-45b1-8c3b-8dadefdb7b5a",
   "metadata": {},
   "outputs": [
    {
     "data": {
      "text/plain": [
       "[(0, -5), (12, 1)]"
      ]
     },
     "execution_count": 21,
     "metadata": {},
     "output_type": "execute_result"
    }
   ],
   "source": [
    "eq3=sp.Eq(2*x+y**2,25)\n",
    "eq4=sp.Eq(x-2*y,10)\n",
    "solve([eq3,eq4],[x,y])"
   ]
  },
  {
   "cell_type": "markdown",
   "id": "da9f0c8c-410f-46d4-a6da-6ef9781ac99e",
   "metadata": {},
   "source": [
    "## Oppgave 2 A"
   ]
  },
  {
   "cell_type": "code",
   "execution_count": 22,
   "id": "894f4646-12a2-404f-a4ca-2c2898822291",
   "metadata": {},
   "outputs": [
    {
     "data": {
      "text/plain": [
       "{x: 4, y: 2}"
      ]
     },
     "execution_count": 22,
     "metadata": {},
     "output_type": "execute_result"
    }
   ],
   "source": [
    "eq5=sp.Eq(4*x-4*y,8)\n",
    "eq6=sp.Eq(9*x-5*y,26)\n",
    "solve([eq5,eq6],[x,y])"
   ]
  },
  {
   "cell_type": "markdown",
   "id": "db647395-c97e-4c9a-b415-c97b4965fcae",
   "metadata": {},
   "source": [
    "## Oppgave 2 B"
   ]
  },
  {
   "cell_type": "code",
   "execution_count": 23,
   "id": "74486ec0-c456-453d-9eb2-1cc7f9704450",
   "metadata": {},
   "outputs": [
    {
     "data": {
      "text/plain": [
       "[(-9, -2*sqrt(3)), (-9, 2*sqrt(3)), (7, -2), (7, 2)]"
      ]
     },
     "execution_count": 23,
     "metadata": {},
     "output_type": "execute_result"
    }
   ],
   "source": [
    "eq7=sp.Eq(x+2*y**2,15)\n",
    "eq8=sp.Eq(x**2-4*y**2,33)\n",
    "solve([eq7,eq8],[x,y])"
   ]
  },
  {
   "cell_type": "markdown",
   "id": "1db27cfe-7ec3-4555-be72-940c13fc3ca7",
   "metadata": {},
   "source": [
    "# Oppgavesett 17"
   ]
  },
  {
   "cell_type": "markdown",
   "id": "37b6e3de-d5b0-4310-a400-92f22e2df2d3",
   "metadata": {},
   "source": [
    "## Oppgave 1 A"
   ]
  },
  {
   "cell_type": "code",
   "execution_count": 24,
   "id": "06d66652-fe1f-459b-9ac1-dc1656f7250d",
   "metadata": {},
   "outputs": [
    {
     "data": {
      "text/plain": [
       "[(0, -4), (0, 4), (15, -1), (15, 1)]"
      ]
     },
     "execution_count": 24,
     "metadata": {},
     "output_type": "execute_result"
    }
   ],
   "source": [
    "eq1=sp.Eq(x*y**2-x,0)\n",
    "eq2=sp.Eq(x+y**2,16)\n",
    "solve([eq1,eq2],[x,y])"
   ]
  },
  {
   "cell_type": "markdown",
   "id": "998851e6-201a-4119-8af6-56dcde2c4223",
   "metadata": {},
   "source": [
    "## Oppgave 1 B"
   ]
  },
  {
   "cell_type": "code",
   "execution_count": 25,
   "id": "3814ea35-378f-453d-ace8-2077149e6403",
   "metadata": {},
   "outputs": [
    {
     "data": {
      "text/plain": [
       "[(-10, 0), (-6, -8), (-6, 8), (6, -8), (6, 8), (10, 0)]"
      ]
     },
     "execution_count": 25,
     "metadata": {},
     "output_type": "execute_result"
    }
   ],
   "source": [
    "eq3=sp.Eq(x**2+y**2,100)\n",
    "eq4=sp.Eq(x**2*y-36*y,0)\n",
    "solve([eq3,eq4],[x,y])"
   ]
  },
  {
   "cell_type": "markdown",
   "id": "20e2489b-d951-42d1-9dde-29faaf027da2",
   "metadata": {},
   "source": [
    "## Oppgave 2 A"
   ]
  },
  {
   "cell_type": "code",
   "execution_count": 26,
   "id": "3df57707-87cb-46f1-a850-fee9fc8b0fc6",
   "metadata": {},
   "outputs": [
    {
     "data": {
      "text/plain": [
       "[(-3, -7), (-3, 7), (0, -sqrt(58)), (0, sqrt(58)), (3, -7), (3, 7)]"
      ]
     },
     "execution_count": 26,
     "metadata": {},
     "output_type": "execute_result"
    }
   ],
   "source": [
    "eq5=sp.Eq(x*y**2-49*x,0)\n",
    "eq6=sp.Eq(x**2+y**2,58)\n",
    "solve([eq5,eq6],[x,y])"
   ]
  },
  {
   "cell_type": "code",
   "execution_count": 27,
   "id": "3ebad95c-0cbe-468f-b5bf-8fc955d94ca8",
   "metadata": {},
   "outputs": [
    {
     "data": {
      "text/plain": [
       "[(-1.11803398874989, 0.0),\n",
       " (-0.500000000000000, -1.00000000000000),\n",
       " (-0.500000000000000, 1.00000000000000),\n",
       " (1.11803398874989, 0.0)]"
      ]
     },
     "execution_count": 27,
     "metadata": {},
     "output_type": "execute_result"
    }
   ],
   "source": [
    "eq7=sp.Eq(x**2+y**2,5/4)\n",
    "eq8=sp.Eq(2*x*y+y,0)\n",
    "solve([eq7,eq8],[x,y])"
   ]
  },
  {
   "cell_type": "markdown",
   "id": "19a38898-b685-457b-9687-a7647762bca4",
   "metadata": {},
   "source": [
    "# Oppgavesett 19"
   ]
  },
  {
   "cell_type": "markdown",
   "id": "03dfe5b5-2a4a-41cb-ad6e-81c5c274893e",
   "metadata": {},
   "source": [
    "## Oppgave 1 A"
   ]
  },
  {
   "cell_type": "code",
   "execution_count": 31,
   "id": "d34af3fb-fea2-4377-8b95-4762db666233",
   "metadata": {},
   "outputs": [],
   "source": [
    "import sympy as sym"
   ]
  },
  {
   "cell_type": "code",
   "execution_count": 32,
   "id": "b09da19b-417c-44d9-8b55-a5d271b21020",
   "metadata": {},
   "outputs": [],
   "source": [
    "x=sp.Symbol('x')"
   ]
  },
  {
   "cell_type": "code",
   "execution_count": 33,
   "id": "f82993e8-e81d-48de-8a90-d97b14514214",
   "metadata": {},
   "outputs": [
    {
     "data": {
      "text/latex": [
       "$\\displaystyle 5 x^{4}$"
      ],
      "text/plain": [
       "5*x**4"
      ]
     },
     "execution_count": 33,
     "metadata": {},
     "output_type": "execute_result"
    }
   ],
   "source": [
    "sym.diff(x**5)"
   ]
  },
  {
   "cell_type": "markdown",
   "id": "911fa0fe-e841-48ff-96d2-7de3ff9b7062",
   "metadata": {},
   "source": [
    "## Oppgave 1 B"
   ]
  },
  {
   "cell_type": "code",
   "execution_count": 34,
   "id": "77216e5e-0cec-4d22-9e11-07b5d08a5856",
   "metadata": {},
   "outputs": [
    {
     "data": {
      "text/latex": [
       "$\\displaystyle 1$"
      ],
      "text/plain": [
       "1"
      ]
     },
     "execution_count": 34,
     "metadata": {},
     "output_type": "execute_result"
    }
   ],
   "source": [
    "sym.diff(x+12)"
   ]
  },
  {
   "cell_type": "markdown",
   "id": "14c02688-cb9a-4517-a04b-919ad4ef8a5f",
   "metadata": {},
   "source": [
    "## Oppgave 1 C"
   ]
  },
  {
   "cell_type": "code",
   "execution_count": 35,
   "id": "54ec8a76-1944-4d5e-bade-4808699e204c",
   "metadata": {},
   "outputs": [
    {
     "data": {
      "text/latex": [
       "$\\displaystyle 3 x^{2} + 8 x$"
      ],
      "text/plain": [
       "3*x**2 + 8*x"
      ]
     },
     "execution_count": 35,
     "metadata": {},
     "output_type": "execute_result"
    }
   ],
   "source": [
    "sym.diff(x**3+4*x**2)"
   ]
  },
  {
   "cell_type": "markdown",
   "id": "3c0ce2a4-866f-4daa-95a5-3ebc37e4905e",
   "metadata": {},
   "source": [
    "## Oppgave 1 D"
   ]
  },
  {
   "cell_type": "code",
   "execution_count": 36,
   "id": "bca79a3e-73e0-4ead-a239-ddfdff479cfd",
   "metadata": {},
   "outputs": [],
   "source": [
    "from sympy import sqrt"
   ]
  },
  {
   "cell_type": "code",
   "execution_count": 37,
   "id": "b2cb0205-3209-40c0-a8fc-f6d9ea1fe027",
   "metadata": {},
   "outputs": [
    {
     "data": {
      "text/latex": [
       "$\\displaystyle 6 x^{2}$"
      ],
      "text/plain": [
       "6*x**2"
      ]
     },
     "execution_count": 37,
     "metadata": {},
     "output_type": "execute_result"
    }
   ],
   "source": [
    "sym.diff(2*x**3+sqrt(36))"
   ]
  },
  {
   "cell_type": "markdown",
   "id": "cb790ffb-d64f-484a-8abe-0f694b14eea4",
   "metadata": {},
   "source": [
    "## Oppgave 1 E"
   ]
  },
  {
   "cell_type": "code",
   "execution_count": 38,
   "id": "28d550bd-b652-4612-bf5f-f8184974817c",
   "metadata": {},
   "outputs": [
    {
     "data": {
      "text/latex": [
       "$\\displaystyle \\frac{1}{2 \\sqrt{x}}$"
      ],
      "text/plain": [
       "1/(2*sqrt(x))"
      ]
     },
     "execution_count": 38,
     "metadata": {},
     "output_type": "execute_result"
    }
   ],
   "source": [
    "sym.diff(sqrt(x)+5**2)"
   ]
  },
  {
   "cell_type": "markdown",
   "id": "e6c5848b-49c0-428d-bf7b-c7086785eab3",
   "metadata": {},
   "source": [
    "## Oppgave 1 F"
   ]
  },
  {
   "cell_type": "code",
   "execution_count": 39,
   "id": "e0ff1cc8-de2b-46e5-ad09-5fe0951744c4",
   "metadata": {},
   "outputs": [
    {
     "data": {
      "text/latex": [
       "$\\displaystyle 3 x^{2} - \\frac{1}{x^{2}}$"
      ],
      "text/plain": [
       "3*x**2 - 1/x**2"
      ]
     },
     "execution_count": 39,
     "metadata": {},
     "output_type": "execute_result"
    }
   ],
   "source": [
    "sym.diff(x**3+1/x)"
   ]
  },
  {
   "cell_type": "markdown",
   "id": "15cdb982-4d30-4a28-b3a9-e7481a6c3ef4",
   "metadata": {},
   "source": [
    "## Oppgave 1 G"
   ]
  },
  {
   "cell_type": "code",
   "execution_count": 40,
   "id": "620e5935-3146-47a2-8404-b7f335acbeaf",
   "metadata": {},
   "outputs": [
    {
     "data": {
      "text/latex": [
       "$\\displaystyle 3 x^{2} - 2 x + 0.25$"
      ],
      "text/plain": [
       "3*x**2 - 2*x + 0.25"
      ]
     },
     "execution_count": 40,
     "metadata": {},
     "output_type": "execute_result"
    }
   ],
   "source": [
    "sym.diff(x**3-x**2+1/4*x)"
   ]
  },
  {
   "cell_type": "markdown",
   "id": "71d2b5c2-1d8a-4ac0-8c0c-40aed62b9501",
   "metadata": {},
   "source": [
    "## Oppgave 2 A"
   ]
  },
  {
   "cell_type": "code",
   "execution_count": 41,
   "id": "306db97a-c527-4209-9f4f-1d4b8a3ee428",
   "metadata": {},
   "outputs": [
    {
     "data": {
      "text/latex": [
       "$\\displaystyle 36 x^{5} - \\frac{1}{x^{2}}$"
      ],
      "text/plain": [
       "36*x**5 - 1/x**2"
      ]
     },
     "execution_count": 41,
     "metadata": {},
     "output_type": "execute_result"
    }
   ],
   "source": [
    "sym.diff(1/x+6*x**6)"
   ]
  },
  {
   "cell_type": "markdown",
   "id": "0a8f0662-b970-421f-834f-a5f26d97148d",
   "metadata": {},
   "source": [
    "## Oppgave 2 B"
   ]
  },
  {
   "cell_type": "code",
   "execution_count": 42,
   "id": "09969db4-5760-4f87-9f64-0a5cb8f29454",
   "metadata": {},
   "outputs": [
    {
     "data": {
      "text/latex": [
       "$\\displaystyle 1.5 x^{2} - 1$"
      ],
      "text/plain": [
       "1.5*x**2 - 1"
      ]
     },
     "execution_count": 42,
     "metadata": {},
     "output_type": "execute_result"
    }
   ],
   "source": [
    "sym.diff(-x+(1/2)*x**3)"
   ]
  },
  {
   "cell_type": "markdown",
   "id": "8984b946-fbd9-43db-b8de-42a88d9bf874",
   "metadata": {},
   "source": [
    "## Oppgave 2 C"
   ]
  },
  {
   "cell_type": "code",
   "execution_count": 43,
   "id": "2dc6a45d-f88e-474f-beed-f4096a09be9b",
   "metadata": {},
   "outputs": [],
   "source": [
    "oc=sym.diff(x*(x**2+2*x-3))"
   ]
  },
  {
   "cell_type": "code",
   "execution_count": 44,
   "id": "36709ec6-c4f6-42db-86b0-5fd444edfc7c",
   "metadata": {},
   "outputs": [],
   "source": [
    "from sympy import factor"
   ]
  },
  {
   "cell_type": "code",
   "execution_count": 45,
   "id": "396852e8-8e44-4b98-a580-82f0de328ba5",
   "metadata": {},
   "outputs": [
    {
     "data": {
      "text/latex": [
       "$\\displaystyle 3 x^{2} + 4 x - 3$"
      ],
      "text/plain": [
       "3*x**2 + 4*x - 3"
      ]
     },
     "execution_count": 45,
     "metadata": {},
     "output_type": "execute_result"
    }
   ],
   "source": [
    "factor(oc)"
   ]
  },
  {
   "cell_type": "markdown",
   "id": "32a314df-d22b-43c7-81c8-056a0a69dcf5",
   "metadata": {},
   "source": [
    "# Oppgavesett 20"
   ]
  },
  {
   "cell_type": "markdown",
   "id": "5d005b99-ed5d-4335-911d-c2f547dc30f9",
   "metadata": {},
   "source": [
    " ## Oppgave 1 E"
   ]
  },
  {
   "cell_type": "code",
   "execution_count": 46,
   "id": "ac57f49d-3f61-4202-bc08-72b130f9cd5c",
   "metadata": {},
   "outputs": [
    {
     "data": {
      "text/latex": [
       "$\\displaystyle 9 x^{8}$"
      ],
      "text/plain": [
       "9*x**8"
      ]
     },
     "execution_count": 46,
     "metadata": {},
     "output_type": "execute_result"
    }
   ],
   "source": [
    "sym.diff(x**4*x**5)"
   ]
  },
  {
   "cell_type": "markdown",
   "id": "0f0d51c1-3959-4456-a623-391ebeda6cf6",
   "metadata": {},
   "source": [
    "## Oppgave 1 F"
   ]
  },
  {
   "cell_type": "code",
   "execution_count": 47,
   "id": "6d23f58d-6661-49a9-8d7e-7fc919e6ed2f",
   "metadata": {},
   "outputs": [
    {
     "data": {
      "text/latex": [
       "$\\displaystyle \\frac{3 \\sqrt{x}}{2}$"
      ],
      "text/plain": [
       "3*sqrt(x)/2"
      ]
     },
     "execution_count": 47,
     "metadata": {},
     "output_type": "execute_result"
    }
   ],
   "source": [
    "f=(x*sqrt(x))\n",
    "sym.diff(f)"
   ]
  },
  {
   "cell_type": "markdown",
   "id": "4aa9853f-1ebc-4305-8a26-f3a08abcbdce",
   "metadata": {},
   "source": [
    "## Oppgave 1 G"
   ]
  },
  {
   "cell_type": "code",
   "execution_count": 48,
   "id": "6d40c77d-06e1-451f-a9fe-86d2059d06cf",
   "metadata": {},
   "outputs": [
    {
     "data": {
      "text/latex": [
       "$\\displaystyle - \\frac{6}{x^{4}}$"
      ],
      "text/plain": [
       "-6/x**4"
      ]
     },
     "execution_count": 48,
     "metadata": {},
     "output_type": "execute_result"
    }
   ],
   "source": [
    "sym.diff(2/x**3)"
   ]
  },
  {
   "cell_type": "markdown",
   "id": "c265c904-398f-4e57-a648-85e881435764",
   "metadata": {},
   "source": [
    "## Oppgave 1 H"
   ]
  },
  {
   "cell_type": "code",
   "execution_count": 49,
   "id": "2f40f9f6-7f4d-44dd-a125-07d6418ee099",
   "metadata": {},
   "outputs": [],
   "source": [
    "a=(x**2-2)/(x**3)\n",
    "b=sym.diff(a)"
   ]
  },
  {
   "cell_type": "code",
   "execution_count": 50,
   "id": "e7f61266-b5af-4c42-9f18-74008cfcfbf1",
   "metadata": {},
   "outputs": [
    {
     "data": {
      "text/latex": [
       "$\\displaystyle - \\frac{x^{2} - 6}{x^{4}}$"
      ],
      "text/plain": [
       "-(x**2 - 6)/x**4"
      ]
     },
     "execution_count": 50,
     "metadata": {},
     "output_type": "execute_result"
    }
   ],
   "source": [
    "factor(b)"
   ]
  },
  {
   "cell_type": "code",
   "execution_count": 51,
   "id": "5ec5d91d-c0a9-4978-8e5a-c4d493eb5acf",
   "metadata": {},
   "outputs": [
    {
     "data": {
      "text/latex": [
       "$\\displaystyle \\frac{6 - x^{2}}{x^{4}}$"
      ],
      "text/plain": [
       "(6 - x**2)/x**4"
      ]
     },
     "execution_count": 51,
     "metadata": {},
     "output_type": "execute_result"
    }
   ],
   "source": [
    "+(-(x**2-6)/(x**4))"
   ]
  },
  {
   "cell_type": "markdown",
   "id": "280ad1dd-1246-492b-ba3a-283eee8ee1d4",
   "metadata": {},
   "source": [
    "## Oppgave 1 I"
   ]
  },
  {
   "cell_type": "code",
   "execution_count": 52,
   "id": "30a83f2f-ec09-4a22-b7ea-c6aefc56227a",
   "metadata": {},
   "outputs": [
    {
     "data": {
      "text/latex": [
       "$\\displaystyle \\frac{13 x^{\\frac{11}{2}}}{2}$"
      ],
      "text/plain": [
       "13*x**(11/2)/2"
      ]
     },
     "execution_count": 52,
     "metadata": {},
     "output_type": "execute_result"
    }
   ],
   "source": [
    "sym.diff(sqrt(x)*x**6)"
   ]
  },
  {
   "cell_type": "markdown",
   "id": "0d165342-b064-40cf-b105-eea675befdaf",
   "metadata": {},
   "source": [
    "## Oppgave 1 J"
   ]
  },
  {
   "cell_type": "code",
   "execution_count": 53,
   "id": "bf56b78b-cba3-4866-a2ba-529bdf7ad774",
   "metadata": {},
   "outputs": [
    {
     "data": {
      "text/latex": [
       "$\\displaystyle 3 x^{2} + 1$"
      ],
      "text/plain": [
       "3*x**2 + 1"
      ]
     },
     "execution_count": 53,
     "metadata": {},
     "output_type": "execute_result"
    }
   ],
   "source": [
    "sym.diff(x*(x**2+1))"
   ]
  },
  {
   "cell_type": "markdown",
   "id": "6d45d8e6-cae0-4097-b921-47ddef47e446",
   "metadata": {},
   "source": [
    "## Oppgave 1 K"
   ]
  },
  {
   "cell_type": "code",
   "execution_count": 54,
   "id": "be245802-b180-49c5-9432-3a64e873b88f",
   "metadata": {},
   "outputs": [
    {
     "data": {
      "text/latex": [
       "$\\displaystyle \\frac{x^{2} + 4}{x^{3} - 1}$"
      ],
      "text/plain": [
       "(x**2 + 4)/(x**3 - 1)"
      ]
     },
     "execution_count": 54,
     "metadata": {},
     "output_type": "execute_result"
    }
   ],
   "source": [
    "f=(x**2+4)/(x**3-1)\n",
    "f"
   ]
  },
  {
   "cell_type": "code",
   "execution_count": 55,
   "id": "c278dd4f-9907-4141-8f18-5905d4fb70c6",
   "metadata": {
    "tags": []
   },
   "outputs": [],
   "source": [
    "u=(x**2+4)\n",
    "v=(x**3-1)"
   ]
  },
  {
   "cell_type": "code",
   "execution_count": 56,
   "id": "3a167fd2-1ee8-469e-9303-e8dab55d2a70",
   "metadata": {},
   "outputs": [
    {
     "data": {
      "text/latex": [
       "$\\displaystyle x^{2} + 4$"
      ],
      "text/plain": [
       "x**2 + 4"
      ]
     },
     "execution_count": 56,
     "metadata": {},
     "output_type": "execute_result"
    }
   ],
   "source": [
    "u"
   ]
  },
  {
   "cell_type": "code",
   "execution_count": 57,
   "id": "22da4f59-5b6d-4029-8410-fbfebf56f124",
   "metadata": {},
   "outputs": [
    {
     "data": {
      "text/latex": [
       "$\\displaystyle x^{3} - 1$"
      ],
      "text/plain": [
       "x**3 - 1"
      ]
     },
     "execution_count": 57,
     "metadata": {},
     "output_type": "execute_result"
    }
   ],
   "source": [
    "v"
   ]
  },
  {
   "cell_type": "code",
   "execution_count": 58,
   "id": "9fc99a94-93a8-4dfd-a7aa-a350df37bd6b",
   "metadata": {},
   "outputs": [
    {
     "data": {
      "text/latex": [
       "$\\displaystyle 2 x$"
      ],
      "text/plain": [
       "2*x"
      ]
     },
     "execution_count": 58,
     "metadata": {},
     "output_type": "execute_result"
    }
   ],
   "source": [
    "du=sym.diff(u)\n",
    "du"
   ]
  },
  {
   "cell_type": "code",
   "execution_count": 59,
   "id": "2897f6c4-9f80-42ae-bbad-378c7778b28c",
   "metadata": {},
   "outputs": [
    {
     "data": {
      "text/latex": [
       "$\\displaystyle 3 x^{2}$"
      ],
      "text/plain": [
       "3*x**2"
      ]
     },
     "execution_count": 59,
     "metadata": {},
     "output_type": "execute_result"
    }
   ],
   "source": [
    "dv=sym.diff(v)\n",
    "dv"
   ]
  },
  {
   "cell_type": "code",
   "execution_count": 60,
   "id": "a5e8b5cc-0043-43c2-9867-835f30b862ff",
   "metadata": {},
   "outputs": [
    {
     "data": {
      "text/latex": [
       "$\\displaystyle \\frac{- 3 x^{2} \\left(x^{2} + 4\\right) + 2 x \\left(x^{3} - 1\\right)}{\\left(x^{3} - 1\\right)^{2}}$"
      ],
      "text/plain": [
       "(-3*x**2*(x**2 + 4) + 2*x*(x**3 - 1))/(x**3 - 1)**2"
      ]
     },
     "execution_count": 60,
     "metadata": {},
     "output_type": "execute_result"
    }
   ],
   "source": [
    "df=((du*v)-(u*dv))/(v**2)\n",
    "df"
   ]
  },
  {
   "cell_type": "code",
   "execution_count": 61,
   "id": "ae0e0cef-e9ef-4bf4-8222-82f2ea2dc358",
   "metadata": {},
   "outputs": [
    {
     "data": {
      "text/latex": [
       "$\\displaystyle - \\frac{x \\left(x^{3} + 12 x + 2\\right)}{\\left(x - 1\\right)^{2} \\left(x^{2} + x + 1\\right)^{2}}$"
      ],
      "text/plain": [
       "-x*(x**3 + 12*x + 2)/((x - 1)**2*(x**2 + x + 1)**2)"
      ]
     },
     "execution_count": 61,
     "metadata": {},
     "output_type": "execute_result"
    }
   ],
   "source": [
    "factor(df)"
   ]
  },
  {
   "cell_type": "markdown",
   "id": "161943a1-c2cf-421d-8e81-871e2a39c8a2",
   "metadata": {},
   "source": [
    "## Oppgave 1 L"
   ]
  },
  {
   "cell_type": "code",
   "execution_count": 62,
   "id": "3daec8e5-5a19-445c-bf13-d1bdb16ce336",
   "metadata": {},
   "outputs": [
    {
     "data": {
      "text/latex": [
       "$\\displaystyle \\frac{x^{2}}{x^{2} + 2 x}$"
      ],
      "text/plain": [
       "x**2/(x**2 + 2*x)"
      ]
     },
     "execution_count": 62,
     "metadata": {},
     "output_type": "execute_result"
    }
   ],
   "source": [
    "f=(x**2)/(x**2+2*x)\n",
    "f"
   ]
  },
  {
   "cell_type": "code",
   "execution_count": 63,
   "id": "87165a82-e3d7-45c0-b6e2-02a5db30857a",
   "metadata": {},
   "outputs": [
    {
     "data": {
      "text/latex": [
       "$\\displaystyle \\frac{- x^{2} \\left(2 x + 2\\right) + 2 x \\left(x^{2} + 2 x\\right)}{\\left(x^{2} + 2 x\\right)^{2}}$"
      ],
      "text/plain": [
       "(-x**2*(2*x + 2) + 2*x*(x**2 + 2*x))/(x**2 + 2*x)**2"
      ]
     },
     "execution_count": 63,
     "metadata": {},
     "output_type": "execute_result"
    }
   ],
   "source": [
    "u=x**2\n",
    "v=x**2+2*x\n",
    "du=sym.diff(u)\n",
    "dv=sym.diff(v)\n",
    "df=((du*v)-(u*dv))/(v**2)\n",
    "df"
   ]
  },
  {
   "cell_type": "markdown",
   "id": "abbf2117-e984-45e4-a2bf-6652b13178e2",
   "metadata": {},
   "source": [
    "## Oppgave 1 M"
   ]
  },
  {
   "cell_type": "code",
   "execution_count": 64,
   "id": "5141554b-062e-4cf4-9db4-6abfa1b79c22",
   "metadata": {},
   "outputs": [
    {
     "data": {
      "text/latex": [
       "$\\displaystyle \\frac{x^{2} + 4 x + 2}{x - 2}$"
      ],
      "text/plain": [
       "(x**2 + 4*x + 2)/(x - 2)"
      ]
     },
     "execution_count": 64,
     "metadata": {},
     "output_type": "execute_result"
    }
   ],
   "source": [
    "f=(x**2+4*x+2)/(x-2)\n",
    "f"
   ]
  },
  {
   "cell_type": "code",
   "execution_count": 65,
   "id": "7ce2cb9f-338e-409e-80dd-5b52d563aafa",
   "metadata": {},
   "outputs": [
    {
     "data": {
      "text/latex": [
       "$\\displaystyle \\frac{- x^{2} - 4 x + \\left(x - 2\\right) \\left(2 x + 4\\right) - 2}{\\left(x - 2\\right)^{2}}$"
      ],
      "text/plain": [
       "(-x**2 - 4*x + (x - 2)*(2*x + 4) - 2)/(x - 2)**2"
      ]
     },
     "execution_count": 65,
     "metadata": {},
     "output_type": "execute_result"
    }
   ],
   "source": [
    "u=x**2+4*x+2\n",
    "v=x-2\n",
    "du=sym.diff(u)\n",
    "dv=sym.diff(v)\n",
    "df=((du*v)-(u*dv))/(v**2)\n",
    "df"
   ]
  },
  {
   "cell_type": "markdown",
   "id": "fbec164d-e634-44d7-887b-29c12c2b083a",
   "metadata": {},
   "source": [
    "## Oppgave 2 A"
   ]
  },
  {
   "cell_type": "code",
   "execution_count": 66,
   "id": "a13b9f3a-6c15-42ac-9a67-fb2bba4c0dba",
   "metadata": {},
   "outputs": [
    {
     "data": {
      "text/latex": [
       "$\\displaystyle \\frac{x^{3} - 2 x}{x^{2} - 1}$"
      ],
      "text/plain": [
       "(x**3 - 2*x)/(x**2 - 1)"
      ]
     },
     "execution_count": 66,
     "metadata": {},
     "output_type": "execute_result"
    }
   ],
   "source": [
    "f=(x**3-2*x)/(x**2-1)\n",
    "f"
   ]
  },
  {
   "cell_type": "code",
   "execution_count": 67,
   "id": "464096db-8f6c-4a81-9ea9-d0715aac8b31",
   "metadata": {},
   "outputs": [
    {
     "data": {
      "text/latex": [
       "$\\displaystyle \\frac{- 2 x \\left(x^{3} - 2 x\\right) + \\left(x^{2} - 1\\right) \\left(3 x^{2} - 2\\right)}{\\left(x^{2} - 1\\right)^{2}}$"
      ],
      "text/plain": [
       "(-2*x*(x**3 - 2*x) + (x**2 - 1)*(3*x**2 - 2))/(x**2 - 1)**2"
      ]
     },
     "execution_count": 67,
     "metadata": {},
     "output_type": "execute_result"
    }
   ],
   "source": [
    "u=x**3-2*x\n",
    "v=x**2-1\n",
    "du=sym.diff(u)\n",
    "dv=sym.diff(v)\n",
    "df=((du*v)-(u*dv))/(v)**2\n",
    "df"
   ]
  },
  {
   "cell_type": "markdown",
   "id": "0cfbfef4-6ebe-43be-a591-bd0a298e98a9",
   "metadata": {},
   "source": [
    "## Oppgave 2 B"
   ]
  },
  {
   "cell_type": "code",
   "execution_count": 68,
   "id": "95651542-ea8a-462a-9ec9-07ec99a91070",
   "metadata": {},
   "outputs": [
    {
     "data": {
      "text/latex": [
       "$\\displaystyle \\left(x^{2} - 1\\right) \\left(x^{2} + 1\\right)$"
      ],
      "text/plain": [
       "(x**2 - 1)*(x**2 + 1)"
      ]
     },
     "execution_count": 68,
     "metadata": {},
     "output_type": "execute_result"
    }
   ],
   "source": [
    "f=(x**2+1)*(x**2-1)\n",
    "f"
   ]
  },
  {
   "cell_type": "code",
   "execution_count": 69,
   "id": "f58b5e78-0431-4dea-80e0-c69b3609e62d",
   "metadata": {},
   "outputs": [
    {
     "data": {
      "text/latex": [
       "$\\displaystyle 2 x \\left(x^{2} - 1\\right) + 2 x \\left(x^{2} + 1\\right)$"
      ],
      "text/plain": [
       "2*x*(x**2 - 1) + 2*x*(x**2 + 1)"
      ]
     },
     "execution_count": 69,
     "metadata": {},
     "output_type": "execute_result"
    }
   ],
   "source": [
    "sym.diff(f)"
   ]
  },
  {
   "cell_type": "code",
   "execution_count": 70,
   "id": "4608ff5f-6dc9-4ee4-9cd7-5b72222293b1",
   "metadata": {},
   "outputs": [
    {
     "data": {
      "text/latex": [
       "$\\displaystyle 4 x^{3}$"
      ],
      "text/plain": [
       "4*x**3"
      ]
     },
     "execution_count": 70,
     "metadata": {},
     "output_type": "execute_result"
    }
   ],
   "source": [
    "factor(sym.diff(f))"
   ]
  },
  {
   "cell_type": "markdown",
   "id": "425ecee9-529a-4523-be5a-83f2f5921b0a",
   "metadata": {},
   "source": [
    "## Oppgave 2 C"
   ]
  },
  {
   "cell_type": "code",
   "execution_count": 71,
   "id": "fd746665-b289-49fa-bb18-6a51815aebfb",
   "metadata": {},
   "outputs": [
    {
     "data": {
      "text/latex": [
       "$\\displaystyle \\frac{3 x - 4}{x^{3} + 7}$"
      ],
      "text/plain": [
       "(3*x - 4)/(x**3 + 7)"
      ]
     },
     "execution_count": 71,
     "metadata": {},
     "output_type": "execute_result"
    }
   ],
   "source": [
    "f=(3*x-4)/(x**3+7)\n",
    "f"
   ]
  },
  {
   "cell_type": "code",
   "execution_count": 72,
   "id": "6c3836a8-d36f-4e0e-9156-7532688b6252",
   "metadata": {},
   "outputs": [
    {
     "data": {
      "text/latex": [
       "$\\displaystyle \\frac{3 x^{3} - 3 x^{2} \\left(3 x - 4\\right) + 21}{\\left(x^{3} + 7\\right)^{2}}$"
      ],
      "text/plain": [
       "(3*x**3 - 3*x**2*(3*x - 4) + 21)/(x**3 + 7)**2"
      ]
     },
     "execution_count": 72,
     "metadata": {},
     "output_type": "execute_result"
    }
   ],
   "source": [
    "u=3*x-4\n",
    "v=x**3+7\n",
    "du=sym.diff(u)\n",
    "dv=sym.diff(v)\n",
    "df=((du*v)-(u*dv))/(v)**2\n",
    "df"
   ]
  },
  {
   "cell_type": "markdown",
   "id": "ee4c417f-aa46-4be6-bf67-a72f18e9fa19",
   "metadata": {},
   "source": [
    "# Oppgavesett 21"
   ]
  },
  {
   "cell_type": "markdown",
   "id": "99b9f51c-ed99-46d6-936e-ddd1d2b1ada1",
   "metadata": {},
   "source": [
    "## Oppgave 1 A"
   ]
  },
  {
   "cell_type": "code",
   "execution_count": 73,
   "id": "49fe1ccc-18d3-4d04-884e-f97f007bcea3",
   "metadata": {},
   "outputs": [
    {
     "data": {
      "text/latex": [
       "$\\displaystyle \\left(x^{3} + 6 x\\right)^{5}$"
      ],
      "text/plain": [
       "(x**3 + 6*x)**5"
      ]
     },
     "execution_count": 73,
     "metadata": {},
     "output_type": "execute_result"
    }
   ],
   "source": [
    "f=(x**3+6*x)**5\n",
    "f"
   ]
  },
  {
   "cell_type": "code",
   "execution_count": null,
   "id": "dc8912ac-ecd1-453c-8027-69ad41fc7a01",
   "metadata": {},
   "outputs": [],
   "source": []
  },
  {
   "cell_type": "markdown",
   "id": "306d8214-5121-4b42-899b-14d3713b9f62",
   "metadata": {},
   "source": [
    "# Oppgavesett 22"
   ]
  },
  {
   "cell_type": "markdown",
   "id": "fd896cd5-dd72-4bfc-94be-ba98c86aa7e4",
   "metadata": {},
   "source": [
    "## Oppgave 1 A"
   ]
  },
  {
   "cell_type": "code",
   "execution_count": 74,
   "id": "56ee8161-2a23-424b-bf77-6683127085be",
   "metadata": {},
   "outputs": [],
   "source": []
  },
  {
   "cell_type": "code",
   "execution_count": 75,
   "id": "a2d3eed9-88d6-46aa-916b-ce7103f5fb4f",
   "metadata": {},
   "outputs": [],
   "source": [
    "f=sp.Function('f')\n",
    "g=sp.Function('g')\n",
    "h=sp.Function('h')\n",
    "A=sp.Function('A')\n",
    "\n",
    "def A(x):\n",
    "    return f(g(h(x)))"
   ]
  },
  {
   "cell_type": "code",
   "execution_count": null,
   "id": "c1b7347c-c9ed-409b-9ff0-888b1edf4cf9",
   "metadata": {},
   "outputs": [],
   "source": []
  },
  {
   "cell_type": "code",
   "execution_count": null,
   "id": "ec5c194b-4c73-44d7-a828-da758341322f",
   "metadata": {},
   "outputs": [],
   "source": []
  }
 ],
 "metadata": {
  "kernelspec": {
   "display_name": "Python 3 (ipykernel)",
   "language": "python",
   "name": "python3"
  },
  "language_info": {
   "codemirror_mode": {
    "name": "ipython",
    "version": 3
   },
   "file_extension": ".py",
   "mimetype": "text/x-python",
   "name": "python",
   "nbconvert_exporter": "python",
   "pygments_lexer": "ipython3",
   "version": "3.9.5"
  }
 },
 "nbformat": 4,
 "nbformat_minor": 5
}
